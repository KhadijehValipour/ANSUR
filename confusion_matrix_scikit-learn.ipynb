{
 "cells": [
  {
   "cell_type": "code",
   "execution_count": 1,
   "metadata": {},
   "outputs": [],
   "source": [
    "import numpy as np"
   ]
  },
  {
   "cell_type": "code",
   "execution_count": 2,
   "metadata": {},
   "outputs": [],
   "source": [
    "actual = np.random.binomial(1 , 0.9 ,size=1000)\n",
    "\n",
    "predicted = np.random.binomial(1 , 0.9 ,size = 1000)"
   ]
  },
  {
   "cell_type": "code",
   "execution_count": 3,
   "metadata": {},
   "outputs": [],
   "source": [
    "from sklearn import metrics\n"
   ]
  },
  {
   "cell_type": "code",
   "execution_count": 4,
   "metadata": {},
   "outputs": [],
   "source": [
    "confusion_matrix = metrics.confusion_matrix(actual,predicted)"
   ]
  },
  {
   "cell_type": "code",
   "execution_count": 5,
   "metadata": {},
   "outputs": [],
   "source": [
    "cm_display =metrics.ConfusionMatrixDisplay(confusion_matrix= confusion_matrix , display_labels=[False ,True])"
   ]
  },
  {
   "cell_type": "code",
   "execution_count": 6,
   "metadata": {},
   "outputs": [],
   "source": [
    "import matplotlib.pyplot as plt\n"
   ]
  },
  {
   "cell_type": "code",
   "execution_count": 7,
   "metadata": {},
   "outputs": [
    {
     "data": {
      "image/png": "[encoded data removed]",
      "text/plain": [
       "<Figure size 640x480 with 2 Axes>"
      ]
     },
     "metadata": {},
     "output_type": "display_data"
    }
   ],
   "source": [
    "cm_display.plot()\n",
    "plt.show()"
   ]
  },
  {
   "cell_type": "markdown",
   "metadata": {},
   "source": [
    "\n",
    "\n",
    "True Positive\n",
    "The model predicted true and it is true.\n",
    "\n",
    "The model predicted that someone is sick and the person is sick.\n",
    "\n",
    "True Negative\n",
    "The model predicted false and it is false.\n",
    "\n",
    "The model predicted that someone is not sick and the person is not sick.\n",
    "\n",
    "False Positive\n",
    "The model predicted True and it is false.\n",
    "\n",
    "The model predicted that someone is sick and the person is not sick.\n",
    "\n",
    "False Negative\n",
    "The model predicted false and it is true.\n",
    "\n",
    "The model predicted that someone is not sick and the person is sick."
   ]
  },
  {
   "cell_type": "markdown",
   "metadata": {},
   "source": [
    "Created Metrics\n",
    "The matrix provides us with many useful metrics that help us to evaluate out classification model.\n",
    "\n",
    "The different measures include: Accuracy, Precision, Sensitivity (Recall), Specificity, and the F-score, explained below.\n",
    "\n",
    "Accuracy\n",
    "Accuracy measures how often the model is correct.\n",
    "\n",
    "How to Calculate\n",
    "(True Positive + True Negative) / Total Predictions"
   ]
  },
  {
   "cell_type": "code",
   "execution_count": 8,
   "metadata": {},
   "outputs": [],
   "source": [
    "Accuracy = metrics.accuracy_score(actual , predicted)"
   ]
  },
  {
   "cell_type": "markdown",
   "metadata": {},
   "source": [
    "Precision\n",
    "Of the positives predicted, what percentage is truly positive?\n",
    "\n",
    "How to Calculate\n",
    "True Positive / (True Positive + False Positive)\n",
    "\n",
    "Precision does not evaluate the correctly predicted negative cases:"
   ]
  },
  {
   "cell_type": "code",
   "execution_count": 9,
   "metadata": {},
   "outputs": [],
   "source": [
    "Precision = metrics.precision_score(actual , predicted)"
   ]
  },
  {
   "cell_type": "markdown",
   "metadata": {},
   "source": [
    "Sensitivity (Recall)\n",
    "Of all the positive cases, what percentage are predicted positive?\n",
    "\n",
    "Sensitivity (sometimes called Recall) measures how good the model is at predicting positives.\n",
    "\n",
    "This means it looks at true positives and false negatives (which are positives that have been incorrectly predicted as negative).\n",
    "\n",
    "How to Calculate\n",
    "True Positive / (True Positive + False Negative)\n",
    "\n",
    "Sensitivity is good at understanding how well the model predicts something is positive:"
   ]
  },
  {
   "cell_type": "code",
   "execution_count": 10,
   "metadata": {},
   "outputs": [],
   "source": [
    "Sensitivity_recall = metrics.recall_score(actual , predicted , pos_label=0)"
   ]
  },
  {
   "cell_type": "markdown",
   "metadata": {},
   "source": [
    "F-score\n",
    "F-score is the \"harmonic mean\" of precision and sensitivity.\n",
    "\n",
    "It considers both false positive and false negative cases and is good for imbalanced datasets.\n",
    "\n",
    "How to Calculate\n",
    "2 * ((Precision * Sensitivity) / (Precision + Sensitivity))\n",
    "\n",
    "This score does not take into consideration the True Negative values:"
   ]
  },
  {
   "cell_type": "code",
   "execution_count": 11,
   "metadata": {},
   "outputs": [],
   "source": [
    "F1_score = metrics.f1_score(actual , predicted )"
   ]
  }
 ],
 "metadata": {
  "kernelspec": {
   "display_name": "Python 3",
   "language": "python",
   "name": "python3"
  },
  "language_info": {
   "codemirror_mode": {
    "name": "ipython",
    "version": 3
   },
   "file_extension": ".py",
   "mimetype": "text/x-python",
   "name": "python",
   "nbconvert_exporter": "python",
   "pygments_lexer": "ipython3",
   "version": "3.11.4"
  },
  "orig_nbformat": 4
 },
 "nbformat": 4,
 "nbformat_minor": 2
}
