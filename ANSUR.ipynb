{
 "cells": [
  {
   "cell_type": "code",
   "execution_count": 1,
   "metadata": {},
   "outputs": [],
   "source": [
    "import numpy as np \n",
    "import pandas as pd\n",
    "\n",
    "import matplotlib.pyplot as plt\n",
    "from matplotlib.colors import ListedColormap\n",
    "from sklearn.model_selection import train_test_split\n",
    "\n",
    "from knn import KNN"
   ]
  },
  {
   "cell_type": "code",
   "execution_count": 2,
   "metadata": {},
   "outputs": [
    {
     "data": {
      "text/html": [
       "<div>\n",
       "<style scoped>\n",
       "    .dataframe tbody tr th:only-of-type {\n",
       "        vertical-align: middle;\n",
       "    }\n",
       "\n",
       "    .dataframe tbody tr th {\n",
       "        vertical-align: top;\n",
       "    }\n",
       "\n",
       "    .dataframe thead th {\n",
       "        text-align: right;\n",
       "    }\n",
       "</style>\n",
       "<table border=\"1\" class=\"dataframe\">\n",
       "  <thead>\n",
       "    <tr style=\"text-align: right;\">\n",
       "      <th></th>\n",
       "      <th>SubjectId</th>\n",
       "      <th>abdominalextensiondepthsitting</th>\n",
       "      <th>acromialheight</th>\n",
       "      <th>acromionradialelength</th>\n",
       "      <th>anklecircumference</th>\n",
       "      <th>axillaheight</th>\n",
       "      <th>balloffootcircumference</th>\n",
       "      <th>balloffootlength</th>\n",
       "      <th>biacromialbreadth</th>\n",
       "      <th>bicepscircumferenceflexed</th>\n",
       "      <th>...</th>\n",
       "      <th>Branch</th>\n",
       "      <th>PrimaryMOS</th>\n",
       "      <th>SubjectsBirthLocation</th>\n",
       "      <th>SubjectNumericRace</th>\n",
       "      <th>Ethnicity</th>\n",
       "      <th>DODRace</th>\n",
       "      <th>Age</th>\n",
       "      <th>Heightin</th>\n",
       "      <th>Weightlbs</th>\n",
       "      <th>WritingPreference</th>\n",
       "    </tr>\n",
       "  </thead>\n",
       "  <tbody>\n",
       "    <tr>\n",
       "      <th>0</th>\n",
       "      <td>10037</td>\n",
       "      <td>231</td>\n",
       "      <td>1282</td>\n",
       "      <td>301</td>\n",
       "      <td>204</td>\n",
       "      <td>1180</td>\n",
       "      <td>222</td>\n",
       "      <td>177</td>\n",
       "      <td>373</td>\n",
       "      <td>315</td>\n",
       "      <td>...</td>\n",
       "      <td>Combat Support</td>\n",
       "      <td>92Y</td>\n",
       "      <td>Germany</td>\n",
       "      <td>2</td>\n",
       "      <td>NaN</td>\n",
       "      <td>2</td>\n",
       "      <td>26</td>\n",
       "      <td>61</td>\n",
       "      <td>142</td>\n",
       "      <td>Right hand</td>\n",
       "    </tr>\n",
       "    <tr>\n",
       "      <th>1</th>\n",
       "      <td>10038</td>\n",
       "      <td>194</td>\n",
       "      <td>1379</td>\n",
       "      <td>320</td>\n",
       "      <td>207</td>\n",
       "      <td>1292</td>\n",
       "      <td>225</td>\n",
       "      <td>178</td>\n",
       "      <td>372</td>\n",
       "      <td>272</td>\n",
       "      <td>...</td>\n",
       "      <td>Combat Service Support</td>\n",
       "      <td>25U</td>\n",
       "      <td>California</td>\n",
       "      <td>3</td>\n",
       "      <td>Mexican</td>\n",
       "      <td>3</td>\n",
       "      <td>21</td>\n",
       "      <td>64</td>\n",
       "      <td>120</td>\n",
       "      <td>Right hand</td>\n",
       "    </tr>\n",
       "    <tr>\n",
       "      <th>2</th>\n",
       "      <td>10042</td>\n",
       "      <td>183</td>\n",
       "      <td>1369</td>\n",
       "      <td>329</td>\n",
       "      <td>233</td>\n",
       "      <td>1271</td>\n",
       "      <td>237</td>\n",
       "      <td>196</td>\n",
       "      <td>397</td>\n",
       "      <td>300</td>\n",
       "      <td>...</td>\n",
       "      <td>Combat Service Support</td>\n",
       "      <td>35D</td>\n",
       "      <td>Texas</td>\n",
       "      <td>1</td>\n",
       "      <td>NaN</td>\n",
       "      <td>1</td>\n",
       "      <td>23</td>\n",
       "      <td>68</td>\n",
       "      <td>147</td>\n",
       "      <td>Right hand</td>\n",
       "    </tr>\n",
       "    <tr>\n",
       "      <th>3</th>\n",
       "      <td>10043</td>\n",
       "      <td>261</td>\n",
       "      <td>1356</td>\n",
       "      <td>306</td>\n",
       "      <td>214</td>\n",
       "      <td>1250</td>\n",
       "      <td>240</td>\n",
       "      <td>188</td>\n",
       "      <td>384</td>\n",
       "      <td>364</td>\n",
       "      <td>...</td>\n",
       "      <td>Combat Service Support</td>\n",
       "      <td>25U</td>\n",
       "      <td>District of Columbia</td>\n",
       "      <td>8</td>\n",
       "      <td>Caribbean Islander</td>\n",
       "      <td>2</td>\n",
       "      <td>22</td>\n",
       "      <td>66</td>\n",
       "      <td>175</td>\n",
       "      <td>Right hand</td>\n",
       "    </tr>\n",
       "    <tr>\n",
       "      <th>4</th>\n",
       "      <td>10051</td>\n",
       "      <td>309</td>\n",
       "      <td>1303</td>\n",
       "      <td>308</td>\n",
       "      <td>214</td>\n",
       "      <td>1210</td>\n",
       "      <td>217</td>\n",
       "      <td>182</td>\n",
       "      <td>378</td>\n",
       "      <td>320</td>\n",
       "      <td>...</td>\n",
       "      <td>Combat Arms</td>\n",
       "      <td>42A</td>\n",
       "      <td>Texas</td>\n",
       "      <td>1</td>\n",
       "      <td>NaN</td>\n",
       "      <td>1</td>\n",
       "      <td>45</td>\n",
       "      <td>63</td>\n",
       "      <td>195</td>\n",
       "      <td>Right hand</td>\n",
       "    </tr>\n",
       "  </tbody>\n",
       "</table>\n",
       "<p>5 rows × 108 columns</p>\n",
       "</div>"
      ],
      "text/plain": [
       "   SubjectId  abdominalextensiondepthsitting  acromialheight  \\\n",
       "0      10037                             231            1282   \n",
       "1      10038                             194            1379   \n",
       "2      10042                             183            1369   \n",
       "3      10043                             261            1356   \n",
       "4      10051                             309            1303   \n",
       "\n",
       "   acromionradialelength  anklecircumference  axillaheight  \\\n",
       "0                    301                 204          1180   \n",
       "1                    320                 207          1292   \n",
       "2                    329                 233          1271   \n",
       "3                    306                 214          1250   \n",
       "4                    308                 214          1210   \n",
       "\n",
       "   balloffootcircumference  balloffootlength  biacromialbreadth  \\\n",
       "0                      222               177                373   \n",
       "1                      225               178                372   \n",
       "2                      237               196                397   \n",
       "3                      240               188                384   \n",
       "4                      217               182                378   \n",
       "\n",
       "   bicepscircumferenceflexed  ...                  Branch  PrimaryMOS  \\\n",
       "0                        315  ...          Combat Support         92Y   \n",
       "1                        272  ...  Combat Service Support         25U   \n",
       "2                        300  ...  Combat Service Support         35D   \n",
       "3                        364  ...  Combat Service Support         25U   \n",
       "4                        320  ...             Combat Arms         42A   \n",
       "\n",
       "   SubjectsBirthLocation  SubjectNumericRace           Ethnicity  DODRace  \\\n",
       "0                Germany                   2                 NaN        2   \n",
       "1             California                   3             Mexican        3   \n",
       "2                  Texas                   1                 NaN        1   \n",
       "3   District of Columbia                   8  Caribbean Islander        2   \n",
       "4                  Texas                   1                 NaN        1   \n",
       "\n",
       "   Age  Heightin  Weightlbs  WritingPreference  \n",
       "0   26        61        142         Right hand  \n",
       "1   21        64        120         Right hand  \n",
       "2   23        68        147         Right hand  \n",
       "3   22        66        175         Right hand  \n",
       "4   45        63        195         Right hand  \n",
       "\n",
       "[5 rows x 108 columns]"
      ]
     },
     "execution_count": 2,
     "metadata": {},
     "output_type": "execute_result"
    }
   ],
   "source": [
    "female_data = pd.read_csv(\"ANSUR_II_FEMALE_Public.csv\")\n",
    "female_data.head()"
   ]
  },
  {
   "cell_type": "code",
   "execution_count": 3,
   "metadata": {},
   "outputs": [
    {
     "data": {
      "text/html": [
       "<div>\n",
       "<style scoped>\n",
       "    .dataframe tbody tr th:only-of-type {\n",
       "        vertical-align: middle;\n",
       "    }\n",
       "\n",
       "    .dataframe tbody tr th {\n",
       "        vertical-align: top;\n",
       "    }\n",
       "\n",
       "    .dataframe thead th {\n",
       "        text-align: right;\n",
       "    }\n",
       "</style>\n",
       "<table border=\"1\" class=\"dataframe\">\n",
       "  <thead>\n",
       "    <tr style=\"text-align: right;\">\n",
       "      <th></th>\n",
       "      <th>SubjectId</th>\n",
       "      <th>abdominalextensiondepthsitting</th>\n",
       "      <th>acromialheight</th>\n",
       "      <th>acromionradialelength</th>\n",
       "      <th>anklecircumference</th>\n",
       "      <th>axillaheight</th>\n",
       "      <th>balloffootcircumference</th>\n",
       "      <th>balloffootlength</th>\n",
       "      <th>biacromialbreadth</th>\n",
       "      <th>bicepscircumferenceflexed</th>\n",
       "      <th>...</th>\n",
       "      <th>Branch</th>\n",
       "      <th>PrimaryMOS</th>\n",
       "      <th>SubjectsBirthLocation</th>\n",
       "      <th>SubjectNumericRace</th>\n",
       "      <th>Ethnicity</th>\n",
       "      <th>DODRace</th>\n",
       "      <th>Age</th>\n",
       "      <th>Heightin</th>\n",
       "      <th>Weightlbs</th>\n",
       "      <th>WritingPreference</th>\n",
       "    </tr>\n",
       "  </thead>\n",
       "  <tbody>\n",
       "    <tr>\n",
       "      <th>0</th>\n",
       "      <td>10027</td>\n",
       "      <td>266</td>\n",
       "      <td>1467</td>\n",
       "      <td>337</td>\n",
       "      <td>222</td>\n",
       "      <td>1347</td>\n",
       "      <td>253</td>\n",
       "      <td>202</td>\n",
       "      <td>401</td>\n",
       "      <td>369</td>\n",
       "      <td>...</td>\n",
       "      <td>Combat Arms</td>\n",
       "      <td>19D</td>\n",
       "      <td>North Dakota</td>\n",
       "      <td>1</td>\n",
       "      <td>NaN</td>\n",
       "      <td>1</td>\n",
       "      <td>41</td>\n",
       "      <td>71</td>\n",
       "      <td>180</td>\n",
       "      <td>Right hand</td>\n",
       "    </tr>\n",
       "    <tr>\n",
       "      <th>1</th>\n",
       "      <td>10032</td>\n",
       "      <td>233</td>\n",
       "      <td>1395</td>\n",
       "      <td>326</td>\n",
       "      <td>220</td>\n",
       "      <td>1293</td>\n",
       "      <td>245</td>\n",
       "      <td>193</td>\n",
       "      <td>394</td>\n",
       "      <td>338</td>\n",
       "      <td>...</td>\n",
       "      <td>Combat Support</td>\n",
       "      <td>68W</td>\n",
       "      <td>New York</td>\n",
       "      <td>1</td>\n",
       "      <td>NaN</td>\n",
       "      <td>1</td>\n",
       "      <td>35</td>\n",
       "      <td>68</td>\n",
       "      <td>160</td>\n",
       "      <td>Left hand</td>\n",
       "    </tr>\n",
       "    <tr>\n",
       "      <th>2</th>\n",
       "      <td>10033</td>\n",
       "      <td>287</td>\n",
       "      <td>1430</td>\n",
       "      <td>341</td>\n",
       "      <td>230</td>\n",
       "      <td>1327</td>\n",
       "      <td>256</td>\n",
       "      <td>196</td>\n",
       "      <td>427</td>\n",
       "      <td>408</td>\n",
       "      <td>...</td>\n",
       "      <td>Combat Support</td>\n",
       "      <td>68W</td>\n",
       "      <td>New York</td>\n",
       "      <td>2</td>\n",
       "      <td>NaN</td>\n",
       "      <td>2</td>\n",
       "      <td>42</td>\n",
       "      <td>68</td>\n",
       "      <td>205</td>\n",
       "      <td>Left hand</td>\n",
       "    </tr>\n",
       "    <tr>\n",
       "      <th>3</th>\n",
       "      <td>10092</td>\n",
       "      <td>234</td>\n",
       "      <td>1347</td>\n",
       "      <td>310</td>\n",
       "      <td>230</td>\n",
       "      <td>1239</td>\n",
       "      <td>262</td>\n",
       "      <td>199</td>\n",
       "      <td>401</td>\n",
       "      <td>359</td>\n",
       "      <td>...</td>\n",
       "      <td>Combat Service Support</td>\n",
       "      <td>88M</td>\n",
       "      <td>Wisconsin</td>\n",
       "      <td>1</td>\n",
       "      <td>NaN</td>\n",
       "      <td>1</td>\n",
       "      <td>31</td>\n",
       "      <td>66</td>\n",
       "      <td>175</td>\n",
       "      <td>Right hand</td>\n",
       "    </tr>\n",
       "    <tr>\n",
       "      <th>4</th>\n",
       "      <td>10093</td>\n",
       "      <td>250</td>\n",
       "      <td>1585</td>\n",
       "      <td>372</td>\n",
       "      <td>247</td>\n",
       "      <td>1478</td>\n",
       "      <td>267</td>\n",
       "      <td>224</td>\n",
       "      <td>435</td>\n",
       "      <td>356</td>\n",
       "      <td>...</td>\n",
       "      <td>Combat Service Support</td>\n",
       "      <td>92G</td>\n",
       "      <td>North Carolina</td>\n",
       "      <td>2</td>\n",
       "      <td>NaN</td>\n",
       "      <td>2</td>\n",
       "      <td>21</td>\n",
       "      <td>77</td>\n",
       "      <td>213</td>\n",
       "      <td>Right hand</td>\n",
       "    </tr>\n",
       "  </tbody>\n",
       "</table>\n",
       "<p>5 rows × 108 columns</p>\n",
       "</div>"
      ],
      "text/plain": [
       "   SubjectId  abdominalextensiondepthsitting  acromialheight  \\\n",
       "0      10027                             266            1467   \n",
       "1      10032                             233            1395   \n",
       "2      10033                             287            1430   \n",
       "3      10092                             234            1347   \n",
       "4      10093                             250            1585   \n",
       "\n",
       "   acromionradialelength  anklecircumference  axillaheight  \\\n",
       "0                    337                 222          1347   \n",
       "1                    326                 220          1293   \n",
       "2                    341                 230          1327   \n",
       "3                    310                 230          1239   \n",
       "4                    372                 247          1478   \n",
       "\n",
       "   balloffootcircumference  balloffootlength  biacromialbreadth  \\\n",
       "0                      253               202                401   \n",
       "1                      245               193                394   \n",
       "2                      256               196                427   \n",
       "3                      262               199                401   \n",
       "4                      267               224                435   \n",
       "\n",
       "   bicepscircumferenceflexed  ...                  Branch  PrimaryMOS  \\\n",
       "0                        369  ...             Combat Arms         19D   \n",
       "1                        338  ...          Combat Support         68W   \n",
       "2                        408  ...          Combat Support         68W   \n",
       "3                        359  ...  Combat Service Support         88M   \n",
       "4                        356  ...  Combat Service Support         92G   \n",
       "\n",
       "   SubjectsBirthLocation  SubjectNumericRace  Ethnicity  DODRace  Age  \\\n",
       "0           North Dakota                   1        NaN        1   41   \n",
       "1               New York                   1        NaN        1   35   \n",
       "2               New York                   2        NaN        2   42   \n",
       "3              Wisconsin                   1        NaN        1   31   \n",
       "4         North Carolina                   2        NaN        2   21   \n",
       "\n",
       "   Heightin  Weightlbs  WritingPreference  \n",
       "0        71        180         Right hand  \n",
       "1        68        160          Left hand  \n",
       "2        68        205          Left hand  \n",
       "3        66        175         Right hand  \n",
       "4        77        213         Right hand  \n",
       "\n",
       "[5 rows x 108 columns]"
      ]
     },
     "execution_count": 3,
     "metadata": {},
     "output_type": "execute_result"
    }
   ],
   "source": [
    "male_data = pd.read_csv(\"ANSUR_II_MALE_Public.csv\", encoding=\"latin_1\")\n",
    "male_data.head()"
   ]
  },
  {
   "cell_type": "code",
   "execution_count": 4,
   "metadata": {},
   "outputs": [
    {
     "data": {
      "text/html": [
       "<div>\n",
       "<style scoped>\n",
       "    .dataframe tbody tr th:only-of-type {\n",
       "        vertical-align: middle;\n",
       "    }\n",
       "\n",
       "    .dataframe tbody tr th {\n",
       "        vertical-align: top;\n",
       "    }\n",
       "\n",
       "    .dataframe thead th {\n",
       "        text-align: right;\n",
       "    }\n",
       "</style>\n",
       "<table border=\"1\" class=\"dataframe\">\n",
       "  <thead>\n",
       "    <tr style=\"text-align: right;\">\n",
       "      <th></th>\n",
       "      <th>SubjectId</th>\n",
       "      <th>abdominalextensiondepthsitting</th>\n",
       "      <th>acromialheight</th>\n",
       "      <th>acromionradialelength</th>\n",
       "      <th>anklecircumference</th>\n",
       "      <th>axillaheight</th>\n",
       "      <th>balloffootcircumference</th>\n",
       "      <th>balloffootlength</th>\n",
       "      <th>biacromialbreadth</th>\n",
       "      <th>bicepscircumferenceflexed</th>\n",
       "      <th>...</th>\n",
       "      <th>Branch</th>\n",
       "      <th>PrimaryMOS</th>\n",
       "      <th>SubjectsBirthLocation</th>\n",
       "      <th>SubjectNumericRace</th>\n",
       "      <th>Ethnicity</th>\n",
       "      <th>DODRace</th>\n",
       "      <th>Age</th>\n",
       "      <th>Heightin</th>\n",
       "      <th>Weightlbs</th>\n",
       "      <th>WritingPreference</th>\n",
       "    </tr>\n",
       "  </thead>\n",
       "  <tbody>\n",
       "    <tr>\n",
       "      <th>0</th>\n",
       "      <td>10037</td>\n",
       "      <td>231</td>\n",
       "      <td>1282</td>\n",
       "      <td>301</td>\n",
       "      <td>204</td>\n",
       "      <td>1180</td>\n",
       "      <td>222</td>\n",
       "      <td>177</td>\n",
       "      <td>373</td>\n",
       "      <td>315</td>\n",
       "      <td>...</td>\n",
       "      <td>Combat Support</td>\n",
       "      <td>92Y</td>\n",
       "      <td>Germany</td>\n",
       "      <td>2</td>\n",
       "      <td>NaN</td>\n",
       "      <td>2</td>\n",
       "      <td>26</td>\n",
       "      <td>61</td>\n",
       "      <td>142</td>\n",
       "      <td>Right hand</td>\n",
       "    </tr>\n",
       "    <tr>\n",
       "      <th>1</th>\n",
       "      <td>10038</td>\n",
       "      <td>194</td>\n",
       "      <td>1379</td>\n",
       "      <td>320</td>\n",
       "      <td>207</td>\n",
       "      <td>1292</td>\n",
       "      <td>225</td>\n",
       "      <td>178</td>\n",
       "      <td>372</td>\n",
       "      <td>272</td>\n",
       "      <td>...</td>\n",
       "      <td>Combat Service Support</td>\n",
       "      <td>25U</td>\n",
       "      <td>California</td>\n",
       "      <td>3</td>\n",
       "      <td>Mexican</td>\n",
       "      <td>3</td>\n",
       "      <td>21</td>\n",
       "      <td>64</td>\n",
       "      <td>120</td>\n",
       "      <td>Right hand</td>\n",
       "    </tr>\n",
       "    <tr>\n",
       "      <th>2</th>\n",
       "      <td>10042</td>\n",
       "      <td>183</td>\n",
       "      <td>1369</td>\n",
       "      <td>329</td>\n",
       "      <td>233</td>\n",
       "      <td>1271</td>\n",
       "      <td>237</td>\n",
       "      <td>196</td>\n",
       "      <td>397</td>\n",
       "      <td>300</td>\n",
       "      <td>...</td>\n",
       "      <td>Combat Service Support</td>\n",
       "      <td>35D</td>\n",
       "      <td>Texas</td>\n",
       "      <td>1</td>\n",
       "      <td>NaN</td>\n",
       "      <td>1</td>\n",
       "      <td>23</td>\n",
       "      <td>68</td>\n",
       "      <td>147</td>\n",
       "      <td>Right hand</td>\n",
       "    </tr>\n",
       "    <tr>\n",
       "      <th>3</th>\n",
       "      <td>10043</td>\n",
       "      <td>261</td>\n",
       "      <td>1356</td>\n",
       "      <td>306</td>\n",
       "      <td>214</td>\n",
       "      <td>1250</td>\n",
       "      <td>240</td>\n",
       "      <td>188</td>\n",
       "      <td>384</td>\n",
       "      <td>364</td>\n",
       "      <td>...</td>\n",
       "      <td>Combat Service Support</td>\n",
       "      <td>25U</td>\n",
       "      <td>District of Columbia</td>\n",
       "      <td>8</td>\n",
       "      <td>Caribbean Islander</td>\n",
       "      <td>2</td>\n",
       "      <td>22</td>\n",
       "      <td>66</td>\n",
       "      <td>175</td>\n",
       "      <td>Right hand</td>\n",
       "    </tr>\n",
       "    <tr>\n",
       "      <th>4</th>\n",
       "      <td>10051</td>\n",
       "      <td>309</td>\n",
       "      <td>1303</td>\n",
       "      <td>308</td>\n",
       "      <td>214</td>\n",
       "      <td>1210</td>\n",
       "      <td>217</td>\n",
       "      <td>182</td>\n",
       "      <td>378</td>\n",
       "      <td>320</td>\n",
       "      <td>...</td>\n",
       "      <td>Combat Arms</td>\n",
       "      <td>42A</td>\n",
       "      <td>Texas</td>\n",
       "      <td>1</td>\n",
       "      <td>NaN</td>\n",
       "      <td>1</td>\n",
       "      <td>45</td>\n",
       "      <td>63</td>\n",
       "      <td>195</td>\n",
       "      <td>Right hand</td>\n",
       "    </tr>\n",
       "    <tr>\n",
       "      <th>...</th>\n",
       "      <td>...</td>\n",
       "      <td>...</td>\n",
       "      <td>...</td>\n",
       "      <td>...</td>\n",
       "      <td>...</td>\n",
       "      <td>...</td>\n",
       "      <td>...</td>\n",
       "      <td>...</td>\n",
       "      <td>...</td>\n",
       "      <td>...</td>\n",
       "      <td>...</td>\n",
       "      <td>...</td>\n",
       "      <td>...</td>\n",
       "      <td>...</td>\n",
       "      <td>...</td>\n",
       "      <td>...</td>\n",
       "      <td>...</td>\n",
       "      <td>...</td>\n",
       "      <td>...</td>\n",
       "      <td>...</td>\n",
       "      <td>...</td>\n",
       "    </tr>\n",
       "    <tr>\n",
       "      <th>4077</th>\n",
       "      <td>29442</td>\n",
       "      <td>235</td>\n",
       "      <td>1353</td>\n",
       "      <td>312</td>\n",
       "      <td>216</td>\n",
       "      <td>1263</td>\n",
       "      <td>228</td>\n",
       "      <td>193</td>\n",
       "      <td>384</td>\n",
       "      <td>318</td>\n",
       "      <td>...</td>\n",
       "      <td>Combat Arms</td>\n",
       "      <td>11B</td>\n",
       "      <td>Colorado</td>\n",
       "      <td>51</td>\n",
       "      <td>Blackfoot Cherokee Choctaw</td>\n",
       "      <td>1</td>\n",
       "      <td>22</td>\n",
       "      <td>67</td>\n",
       "      <td>160</td>\n",
       "      <td>Right hand</td>\n",
       "    </tr>\n",
       "    <tr>\n",
       "      <th>4078</th>\n",
       "      <td>29443</td>\n",
       "      <td>247</td>\n",
       "      <td>1473</td>\n",
       "      <td>336</td>\n",
       "      <td>234</td>\n",
       "      <td>1346</td>\n",
       "      <td>253</td>\n",
       "      <td>196</td>\n",
       "      <td>428</td>\n",
       "      <td>374</td>\n",
       "      <td>...</td>\n",
       "      <td>Combat Arms</td>\n",
       "      <td>91B</td>\n",
       "      <td>Oklahoma</td>\n",
       "      <td>1</td>\n",
       "      <td>NaN</td>\n",
       "      <td>1</td>\n",
       "      <td>22</td>\n",
       "      <td>71</td>\n",
       "      <td>194</td>\n",
       "      <td>Right hand</td>\n",
       "    </tr>\n",
       "    <tr>\n",
       "      <th>4079</th>\n",
       "      <td>29447</td>\n",
       "      <td>264</td>\n",
       "      <td>1394</td>\n",
       "      <td>313</td>\n",
       "      <td>227</td>\n",
       "      <td>1280</td>\n",
       "      <td>245</td>\n",
       "      <td>193</td>\n",
       "      <td>407</td>\n",
       "      <td>367</td>\n",
       "      <td>...</td>\n",
       "      <td>Combat Arms</td>\n",
       "      <td>13B</td>\n",
       "      <td>Oklahoma</td>\n",
       "      <td>1</td>\n",
       "      <td>NaN</td>\n",
       "      <td>1</td>\n",
       "      <td>23</td>\n",
       "      <td>67</td>\n",
       "      <td>186</td>\n",
       "      <td>Right hand</td>\n",
       "    </tr>\n",
       "    <tr>\n",
       "      <th>4080</th>\n",
       "      <td>29451</td>\n",
       "      <td>203</td>\n",
       "      <td>1417</td>\n",
       "      <td>327</td>\n",
       "      <td>223</td>\n",
       "      <td>1314</td>\n",
       "      <td>250</td>\n",
       "      <td>196</td>\n",
       "      <td>419</td>\n",
       "      <td>365</td>\n",
       "      <td>...</td>\n",
       "      <td>Combat Arms</td>\n",
       "      <td>13P</td>\n",
       "      <td>Oklahoma</td>\n",
       "      <td>1</td>\n",
       "      <td>NaN</td>\n",
       "      <td>1</td>\n",
       "      <td>22</td>\n",
       "      <td>69</td>\n",
       "      <td>165</td>\n",
       "      <td>Right hand</td>\n",
       "    </tr>\n",
       "    <tr>\n",
       "      <th>4081</th>\n",
       "      <td>29452</td>\n",
       "      <td>327</td>\n",
       "      <td>1523</td>\n",
       "      <td>358</td>\n",
       "      <td>226</td>\n",
       "      <td>1408</td>\n",
       "      <td>269</td>\n",
       "      <td>225</td>\n",
       "      <td>442</td>\n",
       "      <td>379</td>\n",
       "      <td>...</td>\n",
       "      <td>Combat Arms</td>\n",
       "      <td>92Y</td>\n",
       "      <td>Oklahoma</td>\n",
       "      <td>1</td>\n",
       "      <td>NaN</td>\n",
       "      <td>1</td>\n",
       "      <td>38</td>\n",
       "      <td>73</td>\n",
       "      <td>218</td>\n",
       "      <td>Right hand</td>\n",
       "    </tr>\n",
       "  </tbody>\n",
       "</table>\n",
       "<p>6068 rows × 108 columns</p>\n",
       "</div>"
      ],
      "text/plain": [
       "      SubjectId  abdominalextensiondepthsitting  acromialheight  \\\n",
       "0         10037                             231            1282   \n",
       "1         10038                             194            1379   \n",
       "2         10042                             183            1369   \n",
       "3         10043                             261            1356   \n",
       "4         10051                             309            1303   \n",
       "...         ...                             ...             ...   \n",
       "4077      29442                             235            1353   \n",
       "4078      29443                             247            1473   \n",
       "4079      29447                             264            1394   \n",
       "4080      29451                             203            1417   \n",
       "4081      29452                             327            1523   \n",
       "\n",
       "      acromionradialelength  anklecircumference  axillaheight  \\\n",
       "0                       301                 204          1180   \n",
       "1                       320                 207          1292   \n",
       "2                       329                 233          1271   \n",
       "3                       306                 214          1250   \n",
       "4                       308                 214          1210   \n",
       "...                     ...                 ...           ...   \n",
       "4077                    312                 216          1263   \n",
       "4078                    336                 234          1346   \n",
       "4079                    313                 227          1280   \n",
       "4080                    327                 223          1314   \n",
       "4081                    358                 226          1408   \n",
       "\n",
       "      balloffootcircumference  balloffootlength  biacromialbreadth  \\\n",
       "0                         222               177                373   \n",
       "1                         225               178                372   \n",
       "2                         237               196                397   \n",
       "3                         240               188                384   \n",
       "4                         217               182                378   \n",
       "...                       ...               ...                ...   \n",
       "4077                      228               193                384   \n",
       "4078                      253               196                428   \n",
       "4079                      245               193                407   \n",
       "4080                      250               196                419   \n",
       "4081                      269               225                442   \n",
       "\n",
       "      bicepscircumferenceflexed  ...                  Branch  PrimaryMOS  \\\n",
       "0                           315  ...          Combat Support         92Y   \n",
       "1                           272  ...  Combat Service Support         25U   \n",
       "2                           300  ...  Combat Service Support         35D   \n",
       "3                           364  ...  Combat Service Support         25U   \n",
       "4                           320  ...             Combat Arms         42A   \n",
       "...                         ...  ...                     ...         ...   \n",
       "4077                        318  ...             Combat Arms         11B   \n",
       "4078                        374  ...             Combat Arms         91B   \n",
       "4079                        367  ...             Combat Arms         13B   \n",
       "4080                        365  ...             Combat Arms         13P   \n",
       "4081                        379  ...             Combat Arms         92Y   \n",
       "\n",
       "      SubjectsBirthLocation  SubjectNumericRace                   Ethnicity  \\\n",
       "0                   Germany                   2                         NaN   \n",
       "1                California                   3                     Mexican   \n",
       "2                     Texas                   1                         NaN   \n",
       "3      District of Columbia                   8          Caribbean Islander   \n",
       "4                     Texas                   1                         NaN   \n",
       "...                     ...                 ...                         ...   \n",
       "4077               Colorado                  51  Blackfoot Cherokee Choctaw   \n",
       "4078               Oklahoma                   1                         NaN   \n",
       "4079               Oklahoma                   1                         NaN   \n",
       "4080               Oklahoma                   1                         NaN   \n",
       "4081               Oklahoma                   1                         NaN   \n",
       "\n",
       "      DODRace  Age  Heightin  Weightlbs  WritingPreference  \n",
       "0           2   26        61        142         Right hand  \n",
       "1           3   21        64        120         Right hand  \n",
       "2           1   23        68        147         Right hand  \n",
       "3           2   22        66        175         Right hand  \n",
       "4           1   45        63        195         Right hand  \n",
       "...       ...  ...       ...        ...                ...  \n",
       "4077        1   22        67        160         Right hand  \n",
       "4078        1   22        71        194         Right hand  \n",
       "4079        1   23        67        186         Right hand  \n",
       "4080        1   22        69        165         Right hand  \n",
       "4081        1   38        73        218         Right hand  \n",
       "\n",
       "[6068 rows x 108 columns]"
      ]
     },
     "execution_count": 4,
     "metadata": {},
     "output_type": "execute_result"
    }
   ],
   "source": [
    "data = pd.concat([female_data , male_data])\n",
    "data"
   ]
  },
  {
   "cell_type": "code",
   "execution_count": 5,
   "metadata": {},
   "outputs": [],
   "source": [
    "data[\"weightkg\"] = data[\"weightkg\"] / 10 #convert to kg\n",
    "\n",
    "data[\"stature\"] = data['stature'] / 10 #convert to cm\n",
    "\n",
    "data[\"Gender\"]= data[\"Gender\"].replace([\"Female\" , \"Male\"] , [0,1]) #convert to binary"
   ]
  },
  {
   "cell_type": "code",
   "execution_count": 12,
   "metadata": {},
   "outputs": [
    {
     "data": {
      "image/png": "[encoded data removed]",
      "text/plain": [
       "<Figure size 640x480 with 1 Axes>"
      ]
     },
     "metadata": {},
     "output_type": "display_data"
    }
   ],
   "source": [
    "#cmap = [\"purple\" , \"blue\"]\n",
    "#plt.scatter(data[\"stature\"] , data[\"weightkg\"] , c=data[\"Gender\"] , cmap=ListedColormap(cmap) , alpha=0.3)\n",
    "plt.scatter(female_data['stature']/10 , female_data['weightkg']/10 , c='purple', alpha=0.3)\n",
    "plt.scatter(male_data['stature']/10 ,male_data['weightkg']/10 , c='blue' ,alpha=0.3)\n",
    "plt.xlabel(\"stature (cm)\")\n",
    "plt.ylabel(\"weight (kg)\")\n",
    "plt.legend(['female' ,'male'])\n",
    "plt.title(\"Display weight and stature data of Female and Male\")\n",
    "plt.show()"
   ]
  },
  {
   "cell_type": "code",
   "execution_count": 8,
   "metadata": {},
   "outputs": [
    {
     "data": {
      "image/png": "[encoded data removed]",
      "text/plain": [
       "<Figure size 640x480 with 1 Axes>"
      ]
     },
     "metadata": {},
     "output_type": "display_data"
    }
   ],
   "source": [
    "Female_height = data.query(\"Gender == 0\")[\"stature\"]\n",
    "Male_height = data.query(\"Gender == 1\")[\"stature\"]\n",
    "\n",
    "plt.hist(Male_height , edgecolor=\"blue\" )\n",
    "plt.hist(Female_height , color=\"purple\" , edgecolor=\"pink\"  , alpha=0.7)\n",
    "plt.title(\"Female and Male height\")\n",
    "plt.legend([\"Male\" , \"Female\"])\n",
    "plt.xlabel(\"height (cm)\")\n",
    "plt.show()"
   ]
  },
  {
   "cell_type": "markdown",
   "metadata": {},
   "source": [
    "Why is the data of men higher than the data of women?"
   ]
  },
  {
   "cell_type": "markdown",
   "metadata": {},
   "source": [
    "✨Standard deviation is a number that describes how spread out the values are.\n",
    "\n",
    "A low standard deviation means that most of the numbers are close to the mean (average) value.\n",
    "A high standard deviation means that the values are spread out over a wider range.\n",
    "\n",
    "standard deviation_Male > standard deviation_Female\n",
    "count of Male > count of Female\n",
    "\n",
    "So, it can be said that according to the standard deviation, men's height is more than women's, and according to the average value, men's height is 175 cm more than women's height is 162 cm, and the number of men is more than women, and it seems that all These were effective\n"
   ]
  },
  {
   "cell_type": "code",
   "execution_count": 30,
   "metadata": {},
   "outputs": [
    {
     "data": {
      "text/plain": [
       "41.215773730978306"
      ]
     },
     "execution_count": 30,
     "metadata": {},
     "output_type": "execute_result"
    }
   ],
   "source": [
    "var_Female_height = data.query(\"Gender == 0\")[\"stature\"].var()\n",
    "var_Female_height"
   ]
  },
  {
   "cell_type": "code",
   "execution_count": 31,
   "metadata": {},
   "outputs": [
    {
     "data": {
      "text/plain": [
       "46.99210490026738"
      ]
     },
     "execution_count": 31,
     "metadata": {},
     "output_type": "execute_result"
    }
   ],
   "source": [
    "var_male_height = data.query(\"Gender == 1\")[\"stature\"].var()\n",
    "var_male_height"
   ]
  },
  {
   "cell_type": "code",
   "execution_count": 32,
   "metadata": {},
   "outputs": [
    {
     "name": "stdout",
     "output_type": "stream",
     "text": [
      "6.418334719535899\n"
     ]
    }
   ],
   "source": [
    "\n",
    "std_Female= np.std(Female_height)\n",
    "\n",
    "print(std_Female)"
   ]
  },
  {
   "cell_type": "code",
   "execution_count": 33,
   "metadata": {},
   "outputs": [
    {
     "name": "stdout",
     "output_type": "stream",
     "text": [
      "6.854239043880034\n"
     ]
    }
   ],
   "source": [
    "std_male= np.std(Male_height)\n",
    "\n",
    "print(std_male)"
   ]
  },
  {
   "cell_type": "code",
   "execution_count": 34,
   "metadata": {},
   "outputs": [
    {
     "data": {
      "text/plain": [
       "1986"
      ]
     },
     "execution_count": 34,
     "metadata": {},
     "output_type": "execute_result"
    }
   ],
   "source": [
    "count_Female = data.query(\"Gender == 0\")[\"stature\"].count()\n",
    "count_Female"
   ]
  },
  {
   "cell_type": "code",
   "execution_count": 35,
   "metadata": {},
   "outputs": [
    {
     "data": {
      "text/plain": [
       "4082"
      ]
     },
     "execution_count": 35,
     "metadata": {},
     "output_type": "execute_result"
    }
   ],
   "source": [
    "count_male = data.query(\"Gender == 1\")[\"stature\"].count()\n",
    "count_male"
   ]
  },
  {
   "cell_type": "markdown",
   "metadata": {},
   "source": [
    "‌B. Why is the data of men more right than the data of women?\n"
   ]
  },
  {
   "cell_type": "markdown",
   "metadata": {},
   "source": [
    " ✨because the mean of men's height is greater than mean of women's height"
   ]
  },
  {
   "cell_type": "code",
   "execution_count": 36,
   "metadata": {},
   "outputs": [
    {
     "data": {
      "text/plain": [
       "162.84733131923463"
      ]
     },
     "execution_count": 36,
     "metadata": {},
     "output_type": "execute_result"
    }
   ],
   "source": [
    "var_Female_height = data.query(\"Gender == 0\")[\"stature\"].mean()\n",
    "var_Female_height"
   ]
  },
  {
   "cell_type": "code",
   "execution_count": 37,
   "metadata": {},
   "outputs": [
    {
     "data": {
      "text/plain": [
       "175.62146006859385"
      ]
     },
     "execution_count": 37,
     "metadata": {},
     "output_type": "execute_result"
    }
   ],
   "source": [
    "var_male_height = data.query(\"Gender == 1\")[\"stature\"].mean()\n",
    "var_male_height"
   ]
  },
  {
   "cell_type": "markdown",
   "metadata": {},
   "source": [
    "Split dataset to train and test datasets (%80 for train and %20 for test):\n",
    "\n",
    "you can’t evaluate the predictive performance of a model with the same data you used for training. You need evaluate the model with fresh data that hasn’t been seen by the model before. You can accomplish that by splitting your dataset before you use it."
   ]
  },
  {
   "cell_type": "code",
   "execution_count": 38,
   "metadata": {},
   "outputs": [],
   "source": [
    "def generate_datasets() :\n",
    "    weight= data[\"weightkg\"].to_numpy()\n",
    "    height=data[\"stature\"].to_numpy()\n",
    "    X = data[[\"weightkg\",\"stature\"]].to_numpy()\n",
    "    Y = data['Gender'].to_numpy()\n",
    "    return X,Y\n",
    "  "
   ]
  },
  {
   "cell_type": "code",
   "execution_count": 39,
   "metadata": {},
   "outputs": [
    {
     "data": {
      "text/plain": [
       "(array([[ 65.7, 156. ],\n",
       "        [ 53.4, 166.5],\n",
       "        [ 66.3, 171.1],\n",
       "        ...,\n",
       "        [ 83.2, 169. ],\n",
       "        [ 73.1, 171.8],\n",
       "        [ 98.5, 182.8]]),\n",
       " array([0, 0, 0, ..., 1, 1, 1], dtype=int64))"
      ]
     },
     "execution_count": 39,
     "metadata": {},
     "output_type": "execute_result"
    }
   ],
   "source": [
    "X,Y = generate_datasets()\n",
    "X,Y"
   ]
  },
  {
   "cell_type": "code",
   "execution_count": 40,
   "metadata": {},
   "outputs": [
    {
     "data": {
      "text/plain": [
       "(array([[ 78.5, 179.2],\n",
       "        [ 95.3, 174.9],\n",
       "        [ 63.9, 165.9],\n",
       "        ...,\n",
       "        [ 59.7, 158.7],\n",
       "        [ 88.4, 168.3],\n",
       "        [ 85.1, 173.9]]),\n",
       " array([1, 0, 1, ..., 0, 1, 1], dtype=int64))"
      ]
     },
     "execution_count": 40,
     "metadata": {},
     "output_type": "execute_result"
    }
   ],
   "source": [
    "x_train , x_test , y_train ,y_test = train_test_split(X,Y,test_size= 0.2 ,random_state=30 ,stratify=Y)\n",
    "x_train , y_train\n"
   ]
  },
  {
   "cell_type": "code",
   "execution_count": 41,
   "metadata": {},
   "outputs": [
    {
     "data": {
      "text/plain": [
       "(array([[ 89.6, 183.1],\n",
       "        [ 50.1, 152.9],\n",
       "        [ 85.3, 183.5],\n",
       "        ...,\n",
       "        [ 66.2, 164.5],\n",
       "        [ 96.6, 175.1],\n",
       "        [ 79.4, 177.8]]),\n",
       " array([1, 0, 1, ..., 0, 1, 1], dtype=int64))"
      ]
     },
     "execution_count": 41,
     "metadata": {},
     "output_type": "execute_result"
    }
   ],
   "source": [
    "x_test ,y_test"
   ]
  },
  {
   "cell_type": "code",
   "execution_count": 42,
   "metadata": {},
   "outputs": [],
   "source": [
    "knn = KNN(k=3)\n",
    "knn.fit(x_train ,y_train)"
   ]
  },
  {
   "cell_type": "code",
   "execution_count": 43,
   "metadata": {},
   "outputs": [],
   "source": [
    "new_person1=np.array([70.5,180])\n",
    "new_person2=np.array([55,150])\n",
    "new_person3=np.array([63,158])\n",
    "new_person4=np.array([92.6,200])\n",
    "new_person5=np.array([88,175])\n",
    "\n",
    "new_persons=[new_person1,new_person2,new_person3,new_person4,new_person5]\n",
    "outputs= knn.predict(new_persons)\n"
   ]
  },
  {
   "cell_type": "code",
   "execution_count": 44,
   "metadata": {},
   "outputs": [
    {
     "name": "stdout",
     "output_type": "stream",
     "text": [
      "🙍🏽‍♂️\n",
      "🙍🏽‍♀️\n",
      "🙍🏽‍♀️\n",
      "🙍🏽‍♂️\n",
      "🙍🏽‍♂️\n"
     ]
    }
   ],
   "source": [
    "for output in outputs :\n",
    "    if output == 0:\n",
    "        print(\"🙍🏽‍♀️\")\n",
    "    else:\n",
    "        print(\"🙍🏽‍♂️\")"
   ]
  },
  {
   "cell_type": "code",
   "execution_count": 45,
   "metadata": {},
   "outputs": [
    {
     "data": {
      "text/plain": [
       "0.8204283360790774"
      ]
     },
     "execution_count": 45,
     "metadata": {},
     "output_type": "execute_result"
    }
   ],
   "source": [
    "knn.evaluate(x_test , y_test)"
   ]
  },
  {
   "cell_type": "code",
   "execution_count": 46,
   "metadata": {},
   "outputs": [
    {
     "data": {
      "text/plain": [
       "array([1, 0, 0, 1, 1], dtype=int64)"
      ]
     },
     "execution_count": 46,
     "metadata": {},
     "output_type": "execute_result"
    }
   ],
   "source": [
    "from sklearn.neighbors import KNeighborsClassifier\n",
    "\n",
    "knn = KNeighborsClassifier(n_neighbors=3)\n",
    "knn.fit(x_train ,y_train)\n",
    "\n",
    "knn.predict(new_persons)"
   ]
  },
  {
   "cell_type": "code",
   "execution_count": 47,
   "metadata": {},
   "outputs": [
    {
     "data": {
      "text/plain": [
       "0.8187808896210873"
      ]
     },
     "execution_count": 47,
     "metadata": {},
     "output_type": "execute_result"
    }
   ],
   "source": [
    "knn.score(x_test,y_test)"
   ]
  },
  {
   "cell_type": "code",
   "execution_count": 48,
   "metadata": {},
   "outputs": [],
   "source": [
    "from sklearn.metrics import confusion_matrix\n",
    "from sklearn import metrics "
   ]
  },
  {
   "cell_type": "code",
   "execution_count": 49,
   "metadata": {},
   "outputs": [
    {
     "data": {
      "text/plain": [
       "array([[273.,  96.],\n",
       "       [124., 721.]])"
      ]
     },
     "execution_count": 49,
     "metadata": {},
     "output_type": "execute_result"
    }
   ],
   "source": [
    "y_pred =knn.predict(x_test)\n",
    "confusion_matrix = np.zeros((2,2))\n",
    "\n",
    "for i in range(len(x_test)):\n",
    "    if y_test[i]==0 and y_pred[i]==0 :\n",
    "        confusion_matrix[0][0] += 1\n",
    "\n",
    "    elif y_test[i]==0 and y_pred[i]==1 :\n",
    "        confusion_matrix[1][0] += 1\n",
    "\n",
    "    elif y_test[i]==1 and y_pred[i]==0 :\n",
    "        confusion_matrix[0][1] += 1\n",
    "        \n",
    "    elif y_test[i]==1 and y_pred[i]==1 :\n",
    "        confusion_matrix[1][1] += 1\n",
    "\n",
    "confusion_matrix  "
   ]
  },
  {
   "cell_type": "code",
   "execution_count": 50,
   "metadata": {},
   "outputs": [],
   "source": [
    "from sklearn.metrics import confusion_matrix, ConfusionMatrixDisplay"
   ]
  },
  {
   "cell_type": "code",
   "execution_count": 51,
   "metadata": {},
   "outputs": [],
   "source": [
    "confusion_matrix = metrics.confusion_matrix(y_test ,y_pred)\n"
   ]
  },
  {
   "cell_type": "code",
   "execution_count": 52,
   "metadata": {},
   "outputs": [],
   "source": [
    "ConfusionMatrix_display = metrics.ConfusionMatrixDisplay(confusion_matrix= confusion_matrix , display_labels=[0 ,1])"
   ]
  },
  {
   "cell_type": "code",
   "execution_count": 53,
   "metadata": {},
   "outputs": [
    {
     "data": {
      "image/png": "[encoded data removed]",
      "text/plain": [
       "<Figure size 640x480 with 2 Axes>"
      ]
     },
     "metadata": {},
     "output_type": "display_data"
    }
   ],
   "source": [
    "ConfusionMatrix_display.plot(cmap=plt.cm.Blues)\n",
    "plt.show()"
   ]
  },
  {
   "cell_type": "code",
   "execution_count": 54,
   "metadata": {},
   "outputs": [
    {
     "data": {
      "image/png": "[encoded data removed]",
      "text/plain": [
       "<Figure size 640x480 with 2 Axes>"
      ]
     },
     "metadata": {},
     "output_type": "display_data"
    }
   ],
   "source": [
    "plt.imshow(confusion_matrix)\n",
    "plt.ylabel('Prediction',fontsize=13)\n",
    "plt.xlabel('Actual',fontsize=13)\n",
    "plt.title('Confusion Matrix',fontsize=17)\n",
    "plt.colorbar()\n",
    "plt.show()"
   ]
  },
  {
   "cell_type": "code",
   "execution_count": 63,
   "metadata": {},
   "outputs": [
    {
     "name": "stdout",
     "output_type": "stream",
     "text": [
      "Score in k = 3 is 89.5%.\n",
      "Score in k = 5 is 87.7%.\n",
      "Score in k = 7 is 87.3%.\n",
      "Score in k = 10 is 86.8%.\n",
      "Score in k = 15 is 86.4%.\n"
     ]
    }
   ],
   "source": [
    "\n",
    "for k in [3, 5, 7, 10, 15]:\n",
    "    knn = KNN(k)\n",
    "    knn.fit( X, Y)\n",
    "\n",
    "    score = knn.evaluate(X, Y)\n",
    "    print(f'Score in k = {k} is {score*100:.1f}%.')"
   ]
  },
  {
   "cell_type": "code",
   "execution_count": 64,
   "metadata": {},
   "outputs": [
    {
     "name": "stdout",
     "output_type": "stream",
     "text": [
      "Score in k = 3 is 89.5%.\n",
      "Score in k = 5 is 87.6%.\n",
      "Score in k = 7 is 87.2%.\n",
      "Score in k = 10 is 86.8%.\n",
      "Score in k = 15 is 86.4%.\n"
     ]
    }
   ],
   "source": [
    "for k in [3, 5, 7, 10, 15]:\n",
    "    knn = KNeighborsClassifier(n_neighbors=k)\n",
    "    knn.fit( X, Y)\n",
    "\n",
    "    score = knn.score(X, Y)\n",
    "    print(f'Score in k = {k} is {score*100:.1f}%.')"
   ]
  }
 ],
 "metadata": {
  "kernelspec": {
   "display_name": "Python 3",
   "language": "python",
   "name": "python3"
  },
  "language_info": {
   "codemirror_mode": {
    "name": "ipython",
    "version": 3
   },
   "file_extension": ".py",
   "mimetype": "text/x-python",
   "name": "python",
   "nbconvert_exporter": "python",
   "pygments_lexer": "ipython3",
   "version": "3.11.4"
  },
  "orig_nbformat": 4
 },
 "nbformat": 4,
 "nbformat_minor": 2
}
